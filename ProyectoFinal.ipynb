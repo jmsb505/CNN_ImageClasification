{
  "cells": [
    {
      "cell_type": "markdown",
      "metadata": {
        "id": "zddZ4_Nz-gyS"
      },
      "source": [
        "#Proyecto final IA#\n",
        "####Realizado por: Juan Martin Sanchez, Esteban Alvarado y Carlos Montiel"
      ]
    },
    {
      "cell_type": "markdown",
      "metadata": {
        "id": "m4j_F7XU_aJb"
      },
      "source": [
        "###Imports"
      ]
    },
    {
      "cell_type": "code",
      "execution_count": null,
      "metadata": {
        "id": "cDNUP2dI7d0h"
      },
      "outputs": [],
      "source": [
        "import tensorflow as tf\n",
        "import tensorflow_datasets as tfds\n",
        "import numpy as np\n",
        "import keras\n",
        "from matplotlib import pyplot as plt\n",
        "import pandas as pd\n",
        "import seaborn as sns\n",
        "import cv2\n",
        "\n",
        "from sklearn.model_selection import GridSearchCV,KFold\n",
        "from keras.wrappers.scikit_learn import KerasClassifier\n",
        "from keras.preprocessing.image import ImageDataGenerator\n",
        "from keras.utils import to_categorical\n",
        "\n",
        "from keras.models import Sequential\n",
        "from keras.layers import Dense, Dropout, Conv2D, MaxPooling2D, AveragePooling2D, Flatten\n",
        "from keras.utils import to_categorical\n",
        "from keras.callbacks import EarlyStopping"
      ]
    },
    {
      "cell_type": "markdown",
      "metadata": {
        "id": "-vvSafk6_c7r"
      },
      "source": [
        "###Dataset Load"
      ]
    },
    {
      "cell_type": "markdown",
      "metadata": {
        "id": "YAbOpbpIAS8X"
      },
      "source": [
        "Se carga dataset y se separa en imagenes/etiquetas de entrenamiento y imagenes/etiquetas de testeo."
      ]
    },
    {
      "cell_type": "markdown",
      "metadata": {
        "id": "D0GOgp86vLLd"
      },
      "source": []
    },
    {
      "cell_type": "code",
      "execution_count": null,
      "metadata": {
        "id": "hU8LvFb9_gz1"
      },
      "outputs": [],
      "source": [
        "(X_train, y_train), (X_test, y_test)=tf.keras.datasets.mnist.load_data(path=\"mnist.npz\")"
      ]
    },
    {
      "cell_type": "markdown",
      "metadata": {
        "id": "xc1MCGYKA8tE"
      },
      "source": [
        "Visualizacion de imagen con index=5 para dar ejemplo."
      ]
    },
    {
      "cell_type": "code",
      "execution_count": null,
      "metadata": {
        "id": "bJYJ2js8AydI",
        "colab": {
          "base_uri": "https://localhost:8080/",
          "height": 820
        },
        "outputId": "c22a3377-8164-45bb-bc27-528fcd55c06c"
      },
      "outputs": [
        {
          "output_type": "stream",
          "name": "stdout",
          "text": [
            "LABEL (number): 2\n",
            "\n",
            "IMAGE PIXEL ARRAY:\n",
            " [[  0   0   0   0   0   0   0   0   0   0   0   0   0   0   0   0   0   0   0   0   0   0   0   0   0   0   0   0]\n",
            " [  0   0   0   0   0   0   0   0   0   0   0   0   0   0   0   0   0   0   0   0   0   0   0   0   0   0   0   0]\n",
            " [  0   0   0   0   0   0   0   0   0   0   0   0   0   0   0   0   0   0   0   0   0   0   0   0   0   0   0   0]\n",
            " [  0   0   0   0   0   0   0   0   0   0   0   0   0   0   0   0   0   0   0   0   0   0   0   0   0   0   0   0]\n",
            " [  0   0   0   0   0   0   0   0   0   0   0   0   0   0   0   0   0   0   0   0   0   0   0   0   0   0   0   0]\n",
            " [  0   0   0   0   0   0   0   0   0   0   0   0   0   0   0  13  25 100 122   7   0   0   0   0   0   0   0   0]\n",
            " [  0   0   0   0   0   0   0   0   0   0   0   0   0  33 151 208 252 252 252 146   0   0   0   0   0   0   0   0]\n",
            " [  0   0   0   0   0   0   0   0   0   0   0  40 152 244 252 253 224 211 252 232  40   0   0   0   0   0   0   0]\n",
            " [  0   0   0   0   0   0   0   0   0  15 152 239 252 252 252 216  31  37 252 252  60   0   0   0   0   0   0   0]\n",
            " [  0   0   0   0   0   0   0   0   0  96 252 252 252 252 217  29   0  37 252 252  60   0   0   0   0   0   0   0]\n",
            " [  0   0   0   0   0   0   0   0   0 181 252 252 220 167  30   0   0  77 252 252  60   0   0   0   0   0   0   0]\n",
            " [  0   0   0   0   0   0   0   0   0  26 128  58  22   0   0   0   0 100 252 252  60   0   0   0   0   0   0   0]\n",
            " [  0   0   0   0   0   0   0   0   0   0   0   0   0   0   0   0   0 157 252 252  60   0   0   0   0   0   0   0]\n",
            " [  0   0   0   0   0   0   0   0   0   0   0   0   0 110 121 122 121 202 252 194   3   0   0   0   0   0   0   0]\n",
            " [  0   0   0   0   0   0   0   0   0   0  10  53 179 253 253 255 253 253 228  35   0   0   0   0   0   0   0   0]\n",
            " [  0   0   0   0   0   0   0   0   5  54 227 252 243 228 170 242 252 252 231 117   6   0   0   0   0   0   0   0]\n",
            " [  0   0   0   0   0   0   0   6  78 252 252 125  59   0  18 208 252 252 252 252  87   7   0   0   0   0   0   0]\n",
            " [  0   0   0   0   0   0   5 135 252 252 180  16   0  21 203 253 247 129 173 252 252 184  66  49  49   0   0   0]\n",
            " [  0   0   0   0   0   3 136 252 241 106  17   0  53 200 252 216  65   0  14  72 163 241 252 252 223   0   0   0]\n",
            " [  0   0   0   0   0 105 252 242  88  18  73 170 244 252 126  29   0   0   0   0   0  89 180 180  37   0   0   0]\n",
            " [  0   0   0   0   0 231 252 245 205 216 252 252 252 124   3   0   0   0   0   0   0   0   0   0   0   0   0   0]\n",
            " [  0   0   0   0   0 207 252 252 252 252 178 116  36   4   0   0   0   0   0   0   0   0   0   0   0   0   0   0]\n",
            " [  0   0   0   0   0  13  93 143 121  23   6   0   0   0   0   0   0   0   0   0   0   0   0   0   0   0   0   0]\n",
            " [  0   0   0   0   0   0   0   0   0   0   0   0   0   0   0   0   0   0   0   0   0   0   0   0   0   0   0   0]\n",
            " [  0   0   0   0   0   0   0   0   0   0   0   0   0   0   0   0   0   0   0   0   0   0   0   0   0   0   0   0]\n",
            " [  0   0   0   0   0   0   0   0   0   0   0   0   0   0   0   0   0   0   0   0   0   0   0   0   0   0   0   0]\n",
            " [  0   0   0   0   0   0   0   0   0   0   0   0   0   0   0   0   0   0   0   0   0   0   0   0   0   0   0   0]\n",
            " [  0   0   0   0   0   0   0   0   0   0   0   0   0   0   0   0   0   0   0   0   0   0   0   0   0   0   0   0]]\n"
          ]
        },
        {
          "output_type": "execute_result",
          "data": {
            "text/plain": [
              "<matplotlib.image.AxesImage at 0x7fc247d06a90>"
            ]
          },
          "metadata": {},
          "execution_count": 22
        },
        {
          "output_type": "display_data",
          "data": {
            "text/plain": [
              "<Figure size 432x288 with 1 Axes>"
            ],
            "image/png": "[encoded data removed]"
          },
          "metadata": {
            "needs_background": "light"
          }
        }
      ],
      "source": [
        "index = 5\n",
        "# Set number of characters per row when printing\n",
        "np.set_printoptions(linewidth=320)\n",
        "\n",
        "# Print the label and image\n",
        "print(f'LABEL (number): {y_train[index]}')\n",
        "print(f'\\nIMAGE PIXEL ARRAY:\\n {X_train[index]}')\n",
        "plt.imshow(X_train[index], cmap='gray', vmin=0, vmax=255)\n"
      ]
    },
    {
      "cell_type": "markdown",
      "metadata": {
        "id": "dPA5Nc2JBbJv"
      },
      "source": [
        "Normalizacion de imagenes al escalar valores del 0 al 1, es decir dividir todo para 255."
      ]
    },
    {
      "cell_type": "code",
      "execution_count": null,
      "metadata": {
        "id": "PsZ8MEgyBack",
        "colab": {
          "base_uri": "https://localhost:8080/"
        },
        "outputId": "bc5fbf72-7339-4e73-f397-548eb48c2682"
      },
      "outputs": [
        {
          "output_type": "execute_result",
          "data": {
            "text/plain": [
              "(60000, 28, 28, 1)"
            ]
          },
          "metadata": {},
          "execution_count": 23
        }
      ],
      "source": [
        "X_train  = X_train/ 255.0\n",
        "X_test = X_test / 255.0\n",
        "X_train  = X_train.reshape(-1,28,28,1)\n",
        "X_test = X_test.reshape(-1,28,28,1)\n",
        "X_train.shape"
      ]
    },
    {
      "cell_type": "markdown",
      "metadata": {
        "id": "ORcuNBwyd8Te"
      },
      "source": [
        "Creacion de red neuronal convolusional "
      ]
    },
    {
      "cell_type": "code",
      "execution_count": null,
      "metadata": {
        "id": "H0xZjwVWErZX"
      },
      "outputs": [],
      "source": [
        "def create_cnn_model(n_nodes=64, activation='relu'):\n",
        "    model = Sequential()\n",
        "    model.add(Conv2D(28,(3,3),activation=activation,input_shape=(28,28,1)))\n",
        "    model.add(MaxPooling2D((2,2)))\n",
        "    model.add(Conv2D(n_nodes,(3,3),activation=activation))\n",
        "    model.add(MaxPooling2D((2,2),padding='same'))\n",
        "    model.add(Conv2D(n_nodes,(3,3),activation=activation))\n",
        "    model.add(Flatten())\n",
        "    model.add(Dense(n_nodes,activation=activation))\n",
        "    model.add(Dense(10, activation='softmax'))  \n",
        "    model.compile(optimizer='adam',loss='sparse_categorical_crossentropy',metrics=['accuracy'])\n",
        "    return model"
      ]
    },
    {
      "cell_type": "markdown",
      "metadata": {
        "id": "yWUonNhWHiqh"
      },
      "source": [
        "Creacion de GridSearch para optimizacion de Hyperparametros, se incluye con KFOLD CV que tiene 5 splits."
      ]
    },
    {
      "cell_type": "code",
      "execution_count": null,
      "metadata": {
        "id": "9dZPN2tZGfGy",
        "colab": {
          "base_uri": "https://localhost:8080/"
        },
        "outputId": "b6546609-046e-436f-d873-614e35973996"
      },
      "outputs": [
        {
          "output_type": "stream",
          "name": "stderr",
          "text": [
            "<ipython-input-25-88fcfbe0ba0d>:1: DeprecationWarning: KerasClassifier is deprecated, use Sci-Keras (https://github.com/adriangb/scikeras) instead. See https://www.adriangb.com/scikeras/stable/migration.html for help migrating.\n",
            "  model = KerasClassifier(build_fn=create_cnn_model, verbose=1)\n",
            "/usr/local/lib/python3.8/dist-packages/joblib/externals/loky/process_executor.py:700: UserWarning: A worker stopped while some jobs were given to the executor. This can be caused by a too short worker timeout or by a memory leak.\n",
            "  warnings.warn(\n"
          ]
        },
        {
          "output_type": "stream",
          "name": "stdout",
          "text": [
            "1875/1875 [==============================] - 7s 3ms/step - loss: 0.1350 - accuracy: 0.9583\n",
            "{'activation': 'relu'}\n"
          ]
        }
      ],
      "source": [
        "\n",
        "model = KerasClassifier(build_fn=create_cnn_model, verbose=1)\n",
        "\n",
        "param_grid = { \n",
        "\n",
        "    'activation':['relu','sigmoid','tanh'],\n",
        "}\n",
        "#Se hace un gridSearch con un CV igual a 5 con el fin de validar los parametros\n",
        "kfold = KFold(n_splits=5, shuffle=True, random_state=12345)\n",
        "grid = GridSearchCV(estimator=model, param_grid=param_grid, n_jobs=-1, cv=kfold)\n",
        "grid_search=grid.fit(X_train,y_train)\n",
        "print(grid_search.best_params_)"
      ]
    },
    {
      "cell_type": "code",
      "execution_count": null,
      "metadata": {
        "id": "XFBwSsYFRIPr",
        "colab": {
          "base_uri": "https://localhost:8080/"
        },
        "outputId": "4a7de7b4-0349-4598-bc73-34c4b9376ea6"
      },
      "outputs": [
        {
          "output_type": "stream",
          "name": "stdout",
          "text": [
            "Model: \"sequential_5\"\n",
            "_________________________________________________________________\n",
            " Layer (type)                Output Shape              Param #   \n",
            "=================================================================\n",
            " conv2d_15 (Conv2D)          (None, 26, 26, 28)        280       \n",
            "                                                                 \n",
            " max_pooling2d_10 (MaxPoolin  (None, 13, 13, 28)       0         \n",
            " g2D)                                                            \n",
            "                                                                 \n",
            " conv2d_16 (Conv2D)          (None, 11, 11, 64)        16192     \n",
            "                                                                 \n",
            " max_pooling2d_11 (MaxPoolin  (None, 6, 6, 64)         0         \n",
            " g2D)                                                            \n",
            "                                                                 \n",
            " conv2d_17 (Conv2D)          (None, 4, 4, 64)          36928     \n",
            "                                                                 \n",
            " flatten_5 (Flatten)         (None, 1024)              0         \n",
            "                                                                 \n",
            " dense_10 (Dense)            (None, 64)                65600     \n",
            "                                                                 \n",
            " dense_11 (Dense)            (None, 10)                650       \n",
            "                                                                 \n",
            "=================================================================\n",
            "Total params: 119,650\n",
            "Trainable params: 119,650\n",
            "Non-trainable params: 0\n",
            "_________________________________________________________________\n",
            "Epoch 1/30\n",
            "1875/1875 [==============================] - 8s 4ms/step - loss: 0.1290 - accuracy: 0.9602 - val_loss: 0.0416 - val_accuracy: 0.9864\n",
            "Epoch 2/30\n",
            "1875/1875 [==============================] - 8s 4ms/step - loss: 0.0431 - accuracy: 0.9868 - val_loss: 0.0397 - val_accuracy: 0.9870\n",
            "Epoch 3/30\n",
            "1875/1875 [==============================] - 7s 4ms/step - loss: 0.0302 - accuracy: 0.9901 - val_loss: 0.0443 - val_accuracy: 0.9868\n",
            "Epoch 4/30\n",
            "1875/1875 [==============================] - 7s 4ms/step - loss: 0.0225 - accuracy: 0.9930 - val_loss: 0.0271 - val_accuracy: 0.9921\n",
            "Epoch 5/30\n",
            "1875/1875 [==============================] - 7s 4ms/step - loss: 0.0175 - accuracy: 0.9938 - val_loss: 0.0327 - val_accuracy: 0.9902\n",
            "Epoch 6/30\n",
            "1875/1875 [==============================] - 8s 4ms/step - loss: 0.0142 - accuracy: 0.9953 - val_loss: 0.0290 - val_accuracy: 0.9918\n",
            "Epoch 7/30\n",
            "1875/1875 [==============================] - 7s 4ms/step - loss: 0.0119 - accuracy: 0.9961 - val_loss: 0.0305 - val_accuracy: 0.9906\n",
            "Epoch 8/30\n",
            "1875/1875 [==============================] - 7s 4ms/step - loss: 0.0104 - accuracy: 0.9966 - val_loss: 0.0395 - val_accuracy: 0.9878\n",
            "Epoch 9/30\n",
            "1875/1875 [==============================] - 8s 4ms/step - loss: 0.0083 - accuracy: 0.9970 - val_loss: 0.0334 - val_accuracy: 0.9906\n"
          ]
        }
      ],
      "source": [
        "early_stop = EarlyStopping(monitor = 'val_accuracy', mode = 'max', patience=5, restore_best_weights=True)\n",
        "cnn = create_cnn_model()\n",
        "cnn.summary()\n",
        "history = cnn.fit(\n",
        "    X_train,\n",
        "    y_train,\n",
        "    epochs=30,\n",
        "    validation_data=(X_test,y_test),  \n",
        "    batch_size=32,\n",
        "    callbacks=[early_stop]\n",
        ")"
      ]
    },
    {
      "cell_type": "markdown",
      "metadata": {
        "id": "vzqvGlINtFZY"
      },
      "source": [
        "Graficacion de accuracy"
      ]
    },
    {
      "cell_type": "code",
      "execution_count": null,
      "metadata": {
        "id": "D4_gZT7ltH9i",
        "colab": {
          "base_uri": "https://localhost:8080/",
          "height": 265
        },
        "outputId": "f92c805b-e04d-4e70-c5b0-60e201c458b2"
      },
      "outputs": [
        {
          "output_type": "display_data",
          "data": {
            "text/plain": [
              "<Figure size 432x288 with 1 Axes>"
            ],
            "image/png": "[encoded data removed]"
          },
          "metadata": {
            "needs_background": "light"
          }
        }
      ],
      "source": [
        "df_history = pd.DataFrame(history.history)\n",
        "sns.lineplot(data=df_history[['accuracy','val_accuracy']], palette=\"tab10\", linewidth=2.5);"
      ]
    },
    {
      "cell_type": "markdown",
      "source": [
        "Grafico de Loss:"
      ],
      "metadata": {
        "id": "3IBlq-Ibxant"
      }
    },
    {
      "cell_type": "code",
      "source": [
        "plt.plot(history.history['loss'])\n",
        "plt.plot(history.history['val_loss'])\n",
        "plt.title('Model Loss')\n",
        "plt.ylabel('Loss')\n",
        "plt.xlabel('epoch')\n",
        "plt.legend(['train', 'val'], loc='upper left')\n",
        "plt.show()"
      ],
      "metadata": {
        "id": "b2NAD76fxZJT",
        "colab": {
          "base_uri": "https://localhost:8080/",
          "height": 295
        },
        "outputId": "ae8627fc-9c7b-4efa-c6e2-68f1b6fe7466"
      },
      "execution_count": null,
      "outputs": [
        {
          "output_type": "display_data",
          "data": {
            "text/plain": [
              "<Figure size 432x288 with 1 Axes>"
            ],
            "image/png": "[encoded data removed]"
          },
          "metadata": {
            "needs_background": "light"
          }
        }
      ]
    },
    {
      "cell_type": "markdown",
      "metadata": {
        "id": "kjdUnshhPxVq"
      },
      "source": [
        "Con Data Augmentation: "
      ]
    },
    {
      "cell_type": "code",
      "execution_count": null,
      "metadata": {
        "id": "B9NdT1olP0cM",
        "colab": {
          "base_uri": "https://localhost:8080/"
        },
        "outputId": "6b941882-835e-48c9-8300-81075343681d"
      },
      "outputs": [
        {
          "output_type": "stream",
          "name": "stdout",
          "text": [
            "Epoch 1/30\n"
          ]
        },
        {
          "output_type": "stream",
          "name": "stderr",
          "text": [
            "<ipython-input-29-cb299faf1e86>:13: UserWarning: `Model.fit_generator` is deprecated and will be removed in a future version. Please use `Model.fit`, which supports generators.\n",
            "  history = cnnAg.fit_generator(datagen.flow(X_train,y_train, batch_size=32),\n"
          ]
        },
        {
          "output_type": "stream",
          "name": "stdout",
          "text": [
            "1875/1875 [==============================] - 26s 14ms/step - loss: 0.2497 - accuracy: 0.9209 - val_loss: 0.0578 - val_accuracy: 0.9805\n",
            "Epoch 2/30\n",
            "1875/1875 [==============================] - 26s 14ms/step - loss: 0.0841 - accuracy: 0.9743 - val_loss: 0.0469 - val_accuracy: 0.9849\n",
            "Epoch 3/30\n",
            "1875/1875 [==============================] - 25s 14ms/step - loss: 0.0636 - accuracy: 0.9804 - val_loss: 0.0444 - val_accuracy: 0.9857\n",
            "Epoch 4/30\n",
            "1875/1875 [==============================] - 27s 14ms/step - loss: 0.0555 - accuracy: 0.9828 - val_loss: 0.0198 - val_accuracy: 0.9932\n",
            "Epoch 5/30\n",
            "1875/1875 [==============================] - 26s 14ms/step - loss: 0.0468 - accuracy: 0.9859 - val_loss: 0.0257 - val_accuracy: 0.9911\n",
            "Epoch 6/30\n",
            "1875/1875 [==============================] - 25s 14ms/step - loss: 0.0424 - accuracy: 0.9869 - val_loss: 0.0213 - val_accuracy: 0.9919\n",
            "Epoch 7/30\n",
            "1875/1875 [==============================] - 25s 14ms/step - loss: 0.0388 - accuracy: 0.9882 - val_loss: 0.0266 - val_accuracy: 0.9913\n",
            "Epoch 8/30\n",
            "1875/1875 [==============================] - 25s 14ms/step - loss: 0.0366 - accuracy: 0.9889 - val_loss: 0.0215 - val_accuracy: 0.9931\n",
            "Epoch 9/30\n",
            "1875/1875 [==============================] - 26s 14ms/step - loss: 0.0343 - accuracy: 0.9892 - val_loss: 0.0204 - val_accuracy: 0.9935\n",
            "Epoch 10/30\n",
            "1875/1875 [==============================] - 26s 14ms/step - loss: 0.0314 - accuracy: 0.9904 - val_loss: 0.0196 - val_accuracy: 0.9936\n",
            "Epoch 11/30\n",
            "1875/1875 [==============================] - 27s 14ms/step - loss: 0.0299 - accuracy: 0.9908 - val_loss: 0.0236 - val_accuracy: 0.9933\n",
            "Epoch 12/30\n",
            "1875/1875 [==============================] - 26s 14ms/step - loss: 0.0291 - accuracy: 0.9912 - val_loss: 0.0290 - val_accuracy: 0.9916\n",
            "Epoch 13/30\n",
            "1875/1875 [==============================] - 27s 14ms/step - loss: 0.0299 - accuracy: 0.9909 - val_loss: 0.0260 - val_accuracy: 0.9928\n",
            "Epoch 14/30\n",
            "1875/1875 [==============================] - 26s 14ms/step - loss: 0.0262 - accuracy: 0.9920 - val_loss: 0.0185 - val_accuracy: 0.9946\n",
            "Epoch 15/30\n",
            "1875/1875 [==============================] - 25s 13ms/step - loss: 0.0268 - accuracy: 0.9918 - val_loss: 0.0231 - val_accuracy: 0.9932\n",
            "Epoch 16/30\n",
            "1875/1875 [==============================] - 26s 14ms/step - loss: 0.0239 - accuracy: 0.9926 - val_loss: 0.0195 - val_accuracy: 0.9936\n",
            "Epoch 17/30\n",
            "1875/1875 [==============================] - 25s 14ms/step - loss: 0.0236 - accuracy: 0.9927 - val_loss: 0.0183 - val_accuracy: 0.9931\n",
            "Epoch 18/30\n",
            "1875/1875 [==============================] - 26s 14ms/step - loss: 0.0224 - accuracy: 0.9932 - val_loss: 0.0238 - val_accuracy: 0.9930\n",
            "Epoch 19/30\n",
            "1875/1875 [==============================] - 25s 14ms/step - loss: 0.0223 - accuracy: 0.9934 - val_loss: 0.0260 - val_accuracy: 0.9923\n"
          ]
        }
      ],
      "source": [
        "early_stop = EarlyStopping(monitor = 'val_accuracy', mode = 'max', patience=5, restore_best_weights=True)\n",
        "cnnAg = create_cnn_model()\n",
        "datagen = ImageDataGenerator(\n",
        "        rotation_range=10,  \n",
        "        zoom_range = 0.1, \n",
        "        width_shift_range=0.1, \n",
        "        height_shift_range=0.1,  \n",
        "        horizontal_flip=False, \n",
        "        vertical_flip=False, \n",
        "        fill_mode='constant', cval = 0.0)\n",
        "\n",
        "datagen.fit(X_train)\n",
        "history = cnnAg.fit_generator(datagen.flow(X_train,y_train, batch_size=32),\n",
        "                                  epochs = 30, \n",
        "                                  validation_data = (X_test,y_test),\n",
        "                                  verbose = 1,\n",
        "                                  steps_per_epoch = X_train.shape[0] / 32,\n",
        "                                  callbacks=[early_stop]\n",
        "                                  )\n"
      ]
    },
    {
      "cell_type": "markdown",
      "source": [
        "Grafico de Accuracy con Data Augmentation:"
      ],
      "metadata": {
        "id": "O8HjHeabxtbr"
      }
    },
    {
      "cell_type": "code",
      "source": [
        "df_history = pd.DataFrame(history.history)\n",
        "sns.lineplot(data=df_history[['accuracy','val_accuracy']], palette=\"tab10\", linewidth=2.5);\n"
      ],
      "metadata": {
        "id": "LBP8YGPnxwMy",
        "colab": {
          "base_uri": "https://localhost:8080/",
          "height": 265
        },
        "outputId": "970ff191-97d0-4938-8222-c6e75fbe8c17"
      },
      "execution_count": null,
      "outputs": [
        {
          "output_type": "display_data",
          "data": {
            "text/plain": [
              "<Figure size 432x288 with 1 Axes>"
            ],
            "image/png": "[encoded data removed]"
          },
          "metadata": {
            "needs_background": "light"
          }
        }
      ]
    },
    {
      "cell_type": "markdown",
      "source": [
        "Grafico de Loss con Data Augmentation: "
      ],
      "metadata": {
        "id": "obYz3kyxx-d4"
      }
    },
    {
      "cell_type": "code",
      "source": [
        "plt.plot(history.history['loss'])\n",
        "plt.plot(history.history['val_loss'])\n",
        "plt.title('Model Loss (DATA AUGMENTATION)')\n",
        "plt.ylabel('Loss')\n",
        "plt.xlabel('Epoch')\n",
        "plt.legend(['Training', 'Validation (test)'], loc='upper left')\n",
        "plt.show()"
      ],
      "metadata": {
        "id": "LYVelNuuyDw4",
        "colab": {
          "base_uri": "https://localhost:8080/",
          "height": 295
        },
        "outputId": "e22e01e5-1f23-497d-8a36-ee2cd3340b74"
      },
      "execution_count": null,
      "outputs": [
        {
          "output_type": "display_data",
          "data": {
            "text/plain": [
              "<Figure size 432x288 with 1 Axes>"
            ],
            "image/png": "[encoded data removed]"
          },
          "metadata": {
            "needs_background": "light"
          }
        }
      ]
    },
    {
      "cell_type": "markdown",
      "source": [
        "Guardar pesos en archivo h5 conteniendo los parametros optimos del modelo:"
      ],
      "metadata": {
        "id": "6nr3BBrQ6kDK"
      }
    },
    {
      "cell_type": "code",
      "source": [
        "#cnn.save_weights('DeberFinal.h5')\n",
        "#cnn.save()"
      ],
      "metadata": {
        "id": "nCiI9RwI6tSE"
      },
      "execution_count": null,
      "outputs": []
    },
    {
      "cell_type": "markdown",
      "source": [
        "Se tiene al final mejor accuracy y loss en los conjuntos de validacion al usar data Augmentation. El conjunto de training va a empeorar en razon al usar CNN pero el data augmentation ayuda a la validacion."
      ],
      "metadata": {
        "id": "LwPkAS8U8X9D"
      }
    },
    {
      "cell_type": "markdown",
      "metadata": {
        "id": "xXQqLv-yY-4r"
      },
      "source": [
        "##Test con imagenes propias"
      ]
    },
    {
      "cell_type": "code",
      "execution_count": null,
      "metadata": {
        "id": "JK-lxwzOZEZs",
        "colab": {
          "base_uri": "https://localhost:8080/",
          "height": 282
        },
        "outputId": "264d0736-e7e1-4614-f587-2327e53f4172"
      },
      "outputs": [
        {
          "output_type": "stream",
          "name": "stdout",
          "text": [
            "(1, 28, 28, 1)\n"
          ]
        },
        {
          "output_type": "display_data",
          "data": {
            "text/plain": [
              "<Figure size 432x288 with 1 Axes>"
            ],
            "image/png": "[encoded data removed]"
          },
          "metadata": {
            "needs_background": "light"
          }
        }
      ],
      "source": [
        "\n",
        "\n",
        "files=['/content/test0.JPG','/content/test1.JPG','/content/test2.JPG','/content/test3.JPG','/content/test4.JPG'\n",
        ",'/content/test5.JPG','/content/test6.JPG','/content/test7.JPG','/content/test8.JPG','/content/test9.JPG']\n",
        "photos=[]\n",
        "images=[]\n",
        "\n",
        "\n",
        "import cv2\n",
        "for i in files:\n",
        "  image = cv2.imread(i,0)\n",
        "  image = cv2.resize(image, (28,28))\n",
        "  images.append(image)\n",
        "  photos.append(image.reshape(-1,28,28,1))\n",
        "plt.imshow(images[9],cmap='gray')\n",
        "print(photos[0].shape)\n"
      ]
    },
    {
      "cell_type": "code",
      "source": [
        "CATEGORIES = [\"0\",\"1\",\"2\",\"3\",\"4\",\"5\",\"6\",\"7\",\"8\",\"9\"]\n",
        "for data in photos:\n",
        "  prediction = cnnAg.predict(data)\n",
        "  index=np.argmax(prediction)\n",
        "  print(CATEGORIES[index])\n",
        "  "
      ],
      "metadata": {
        "id": "fAVBM3GbThWf",
        "colab": {
          "base_uri": "https://localhost:8080/"
        },
        "outputId": "22afebf4-8a6a-4f3b-f292-b6e925fb7e35"
      },
      "execution_count": null,
      "outputs": [
        {
          "output_type": "stream",
          "name": "stdout",
          "text": [
            "1/1 [==============================] - 0s 66ms/step\n",
            "0\n",
            "1/1 [==============================] - 0s 19ms/step\n",
            "1\n",
            "1/1 [==============================] - 0s 16ms/step\n",
            "2\n",
            "1/1 [==============================] - 0s 15ms/step\n",
            "3\n",
            "1/1 [==============================] - 0s 15ms/step\n",
            "4\n",
            "1/1 [==============================] - 0s 15ms/step\n",
            "5\n",
            "1/1 [==============================] - 0s 17ms/step\n",
            "6\n",
            "1/1 [==============================] - 0s 16ms/step\n",
            "7\n",
            "1/1 [==============================] - 0s 16ms/step\n",
            "8\n",
            "1/1 [==============================] - 0s 18ms/step\n",
            "9\n"
          ]
        }
      ]
    }
  ],
  "metadata": {
    "colab": {
      "provenance": []
    },
    "kernelspec": {
      "display_name": "Python 3",
      "name": "python3"
    },
    "language_info": {
      "name": "python"
    },
    "accelerator": "GPU",
    "gpuClass": "standard"
  },
  "nbformat": 4,
  "nbformat_minor": 0
}